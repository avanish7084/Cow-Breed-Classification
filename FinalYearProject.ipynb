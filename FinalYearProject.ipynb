{
  "cells": [
    {
      "cell_type": "markdown",
      "metadata": {
        "id": "view-in-github",
        "colab_type": "text"
      },
      "source": [
        "<a href=\"https://colab.research.google.com/github/avanish7084/cow-breed-classification/blob/subbranch/FinalYearProject.ipynb\" target=\"_parent\"><img src=\"https://colab.research.google.com/assets/colab-badge.svg\" alt=\"Open In Colab\"/></a>"
      ]
    },
    {
      "cell_type": "code",
      "execution_count": null,
      "metadata": {
        "colab": {
          "base_uri": "https://localhost:8080/"
        },
        "id": "8p6fez9GHmZI",
        "outputId": "47bebe38-c449-4bc4-f078-92ec21450e8d"
      },
      "outputs": [
        {
          "output_type": "stream",
          "name": "stdout",
          "text": [
            "Mounted at ProjectFolderDrive\n"
          ]
        }
      ],
      "source": [
        "from google.colab import drive\n",
        "drive.mount('ProjectFolderDrive')"
      ]
    },
    {
      "cell_type": "code",
      "execution_count": null,
      "metadata": {
        "colab": {
          "base_uri": "https://localhost:8080/"
        },
        "id": "LtMVM9tdHnuy",
        "outputId": "8d01ac0b-8902-43c2-e92e-2e1d5a41c9f9"
      },
      "outputs": [
        {
          "output_type": "stream",
          "name": "stdout",
          "text": [
            "Collecting django==4.2.1\n",
            "  Downloading Django-4.2.1-py3-none-any.whl (8.0 MB)\n",
            "\u001b[2K     \u001b[90m━━━━━━━━━━━━━━━━━━━━━━━━━━━━━━━━━━━━━━━━\u001b[0m \u001b[32m8.0/8.0 MB\u001b[0m \u001b[31m24.8 MB/s\u001b[0m eta \u001b[36m0:00:00\u001b[0m\n",
            "\u001b[?25hCollecting asgiref<4,>=3.6.0 (from django==4.2.1)\n",
            "  Downloading asgiref-3.7.2-py3-none-any.whl (24 kB)\n",
            "Requirement already satisfied: sqlparse>=0.3.1 in /usr/local/lib/python3.10/dist-packages (from django==4.2.1) (0.4.4)\n",
            "Requirement already satisfied: typing-extensions>=4 in /usr/local/lib/python3.10/dist-packages (from asgiref<4,>=3.6.0->django==4.2.1) (4.10.0)\n",
            "Installing collected packages: asgiref, django\n",
            "Successfully installed asgiref-3.7.2 django-4.2.1\n",
            "Collecting djangorestframework==3.14.0\n",
            "  Downloading djangorestframework-3.14.0-py3-none-any.whl (1.1 MB)\n",
            "\u001b[2K     \u001b[90m━━━━━━━━━━━━━━━━━━━━━━━━━━━━━━━━━━━━━━━━\u001b[0m \u001b[32m1.1/1.1 MB\u001b[0m \u001b[31m11.0 MB/s\u001b[0m eta \u001b[36m0:00:00\u001b[0m\n",
            "\u001b[?25hRequirement already satisfied: django>=3.0 in /usr/local/lib/python3.10/dist-packages (from djangorestframework==3.14.0) (4.2.1)\n",
            "Requirement already satisfied: pytz in /usr/local/lib/python3.10/dist-packages (from djangorestframework==3.14.0) (2023.4)\n",
            "Requirement already satisfied: asgiref<4,>=3.6.0 in /usr/local/lib/python3.10/dist-packages (from django>=3.0->djangorestframework==3.14.0) (3.7.2)\n",
            "Requirement already satisfied: sqlparse>=0.3.1 in /usr/local/lib/python3.10/dist-packages (from django>=3.0->djangorestframework==3.14.0) (0.4.4)\n",
            "Requirement already satisfied: typing-extensions>=4 in /usr/local/lib/python3.10/dist-packages (from asgiref<4,>=3.6.0->django>=3.0->djangorestframework==3.14.0) (4.10.0)\n",
            "Installing collected packages: djangorestframework\n",
            "Successfully installed djangorestframework-3.14.0\n"
          ]
        }
      ],
      "source": [
        "!pip install django==4.2.1\n",
        "!pip install djangorestframework==3.14.0"
      ]
    },
    {
      "cell_type": "code",
      "execution_count": null,
      "metadata": {
        "colab": {
          "base_uri": "https://localhost:8080/"
        },
        "id": "WZYYlksQH5J3",
        "outputId": "95b43980-ec10-42fb-fe6c-2638e4ad3eaf"
      },
      "outputs": [
        {
          "output_type": "stream",
          "name": "stdout",
          "text": [
            "/content/ProjectFolderDrive/MyDrive/Cow Breed Classification /CowBreedClassifier\n",
            "CowBreedClassifier  CowsFinal\tmainsite   media\ttemplates\n",
            "cowmodel.h5\t    db.sqlite3\tmanage.py  staticfiles\n"
          ]
        }
      ],
      "source": [
        "%cd /content/ProjectFolderDrive/MyDrive/Cow Breed Classification /CowBreedClassifier\n",
        "!ls"
      ]
    },
    {
      "cell_type": "code",
      "execution_count": null,
      "metadata": {
        "colab": {
          "base_uri": "https://localhost:8080/",
          "height": 34
        },
        "id": "1yK4uttYHqKI",
        "outputId": "28739e18-b1e4-4bff-b1f4-1cf0561e60c5"
      },
      "outputs": [
        {
          "output_type": "stream",
          "name": "stdout",
          "text": [
            "https://no6k4bbg8ds-496ff2e9c6d22116-8000-colab.googleusercontent.com/\n"
          ]
        }
      ],
      "source": [
        "from google.colab.output import eval_js\n",
        "print(eval_js(\"google.colab.kernel.proxyPort(8000)\"))"
      ]
    },
    {
      "cell_type": "code",
      "execution_count": null,
      "metadata": {
        "colab": {
          "base_uri": "https://localhost:8080/"
        },
        "id": "1XZZCIf3INMu",
        "outputId": "82a62f90-3edc-4786-96dc-83aede9a5b44"
      },
      "outputs": [
        {
          "output_type": "stream",
          "name": "stdout",
          "text": [
            "-------------------------------- run ---------------------------------------\n",
            "2024-03-02 19:50:16.568228: E external/local_xla/xla/stream_executor/cuda/cuda_dnn.cc:9261] Unable to register cuDNN factory: Attempting to register factory for plugin cuDNN when one has already been registered\n",
            "2024-03-02 19:50:16.568319: E external/local_xla/xla/stream_executor/cuda/cuda_fft.cc:607] Unable to register cuFFT factory: Attempting to register factory for plugin cuFFT when one has already been registered\n",
            "2024-03-02 19:50:16.570052: E external/local_xla/xla/stream_executor/cuda/cuda_blas.cc:1515] Unable to register cuBLAS factory: Attempting to register factory for plugin cuBLAS when one has already been registered\n",
            "2024-03-02 19:50:16.580490: I tensorflow/core/platform/cpu_feature_guard.cc:182] This TensorFlow binary is optimized to use available CPU instructions in performance-critical operations.\n",
            "To enable the following instructions: AVX2 FMA, in other operations, rebuild TensorFlow with the appropriate compiler flags.\n",
            "2024-03-02 19:50:18.078805: W tensorflow/compiler/tf2tensorrt/utils/py_utils.cc:38] TF-TRT Warning: Could not find TensorRT\n",
            "-------------------------------- endrun ---------------------------------------\n",
            "-------------------------------- run ---------------------------------------\n",
            "2024-03-02 19:50:39.023297: E external/local_xla/xla/stream_executor/cuda/cuda_dnn.cc:9261] Unable to register cuDNN factory: Attempting to register factory for plugin cuDNN when one has already been registered\n",
            "2024-03-02 19:50:39.023349: E external/local_xla/xla/stream_executor/cuda/cuda_fft.cc:607] Unable to register cuFFT factory: Attempting to register factory for plugin cuFFT when one has already been registered\n",
            "2024-03-02 19:50:39.024846: E external/local_xla/xla/stream_executor/cuda/cuda_blas.cc:1515] Unable to register cuBLAS factory: Attempting to register factory for plugin cuBLAS when one has already been registered\n",
            "2024-03-02 19:50:40.282136: W tensorflow/compiler/tf2tensorrt/utils/py_utils.cc:38] TF-TRT Warning: Could not find TensorRT\n",
            "-------------------------------- endrun ---------------------------------------\n",
            "Watching for file changes with StatReloader\n",
            "Performing system checks...\n",
            "\n",
            "System check identified no issues (0 silenced).\n",
            "March 02, 2024 - 19:51:00\n",
            "Django version 4.2.1, using settings 'CowBreedClassifier.settings'\n",
            "Starting development server at http://127.0.0.1:8000/\n",
            "Quit the server with CONTROL-C.\n",
            "\n",
            "[02/Mar/2024 19:51:07] \u001b[m\"GET / HTTP/1.1\" 200 13771\u001b[0m\n",
            "[02/Mar/2024 19:51:08] \u001b[m\"GET /media/picture/red_sindhi.jpg HTTP/1.1\" 200 36611\u001b[0m\n",
            "[02/Mar/2024 19:51:08] \u001b[m\"GET /media/picture/hariana.jpg HTTP/1.1\" 200 85008\u001b[0m\n",
            "[02/Mar/2024 19:51:08] \u001b[m\"GET /media/picture/sahiwal.jpg HTTP/1.1\" 200 22986\u001b[0m\n",
            "[02/Mar/2024 19:51:08] \u001b[m\"GET /media/picture/gir.jpg HTTP/1.1\" 200 127573\u001b[0m\n",
            "[02/Mar/2024 19:51:09] \u001b[m\"GET /media/picture/kankrej.jpg HTTP/1.1\" 200 141896\u001b[0m\n",
            "[02/Mar/2024 19:51:09] \u001b[m\"GET /static/background-image.jpg HTTP/1.1\" 200 330555\u001b[0m\n",
            "[02/Mar/2024 19:51:09] \u001b[m\"GET /media/picture/rathi.jpg HTTP/1.1\" 200 173111\u001b[0m\n",
            "Not Found: /favicon.ico\n",
            "[02/Mar/2024 19:51:11] \u001b[33m\"GET /favicon.ico HTTP/1.1\" 404 3749\u001b[0m\n",
            "[02/Mar/2024 19:51:24] \u001b[m\"GET /upload/ HTTP/1.1\" 200 10342\u001b[0m\n",
            "[02/Mar/2024 19:51:25] \u001b[m\"GET /static/background-image.jpg HTTP/1.1\" 200 330555\u001b[0m\n",
            "Not Found: /favicon.ico\n",
            "[02/Mar/2024 19:51:27] \u001b[33m\"GET /favicon.ico HTTP/1.1\" 404 3749\u001b[0m\n",
            "1/1 [==============================] - 2s 2s/step\n",
            "RED SINDHI\n",
            "[02/Mar/2024 19:52:33] \u001b[m\"POST /upload/ HTTP/1.1\" 200 11380\u001b[0m\n",
            "[02/Mar/2024 19:52:33] \u001b[m\"GET /media/2.jpg HTTP/1.1\" 200 9886\u001b[0m\n",
            "[02/Mar/2024 19:52:34] \u001b[m\"GET /static/background-image.jpg HTTP/1.1\" 200 330555\u001b[0m\n",
            "Not Found: /favicon.ico\n",
            "[02/Mar/2024 19:52:35] \u001b[33m\"GET /favicon.ico HTTP/1.1\" 404 3749\u001b[0m\n",
            "[02/Mar/2024 19:52:45] \u001b[m\"GET /about/ HTTP/1.1\" 200 8724\u001b[0m\n",
            "[02/Mar/2024 19:52:46] \u001b[m\"GET /static/background-image.jpg HTTP/1.1\" 200 330555\u001b[0m\n",
            "Not Found: /favicon.ico\n",
            "[02/Mar/2024 19:52:48] \u001b[33m\"GET /favicon.ico HTTP/1.1\" 404 3749\u001b[0m\n"
          ]
        }
      ],
      "source": [
        "!python manage.py runserver"
      ]
    }
  ],
  "metadata": {
    "colab": {
      "provenance": [],
      "authorship_tag": "ABX9TyNZLBXklHLb6uTXIoLXbjew",
      "include_colab_link": true
    },
    "kernelspec": {
      "display_name": "Python 3",
      "name": "python3"
    },
    "language_info": {
      "name": "python"
    }
  },
  "nbformat": 4,
  "nbformat_minor": 0
}
